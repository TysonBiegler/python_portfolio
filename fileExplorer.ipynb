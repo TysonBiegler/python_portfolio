{
 "cells": [
  {
   "cell_type": "code",
   "execution_count": 1,
   "id": "2d3ba437",
   "metadata": {},
   "outputs": [],
   "source": [
    "import os, shutil"
   ]
  },
  {
   "cell_type": "code",
   "execution_count": 2,
   "id": "1fbff233",
   "metadata": {},
   "outputs": [],
   "source": [
    "path = r\"C:/Users/tyson/Downloads/\""
   ]
  },
  {
   "cell_type": "code",
   "execution_count": 7,
   "id": "49053a94",
   "metadata": {
    "scrolled": true
   },
   "outputs": [],
   "source": [
    "file_name = os.listdir(path)"
   ]
  },
  {
   "cell_type": "code",
   "execution_count": 4,
   "id": "1c49841a",
   "metadata": {},
   "outputs": [],
   "source": [
    "# checking if path exists\n",
    "folder_names = ['csv files', 'images', 'text', 'exe files']\n",
    "\n",
    "#makes folders\n",
    "for loop in range(0,4):\n",
    "    if not os.path.exists(path + folder_names[loop]):\n",
    "        os.makedirs((path + folder_names[loop]))\n",
    "        \n",
    "#moves files to appropriate folders        \n",
    "for file in file_name:\n",
    "    if \".csv\" in file and not os.path.exists(path + \"csv files/\" + file):\n",
    "        shutil.move(path + file, path + \"csv files/\" + file)\n",
    "    if \".xlsx\" in file and not os.path.exists(path + \"csv files/\" + file):\n",
    "        shutil.move(path + file, path + \"csv files/\" + file)\n",
    "    elif \".PNG\" in file and not os.path.exists(path + \"images/\" + file):\n",
    "        shutil.move(path + file, path + \"images/\" + file)\n",
    "    elif \".png\" in file and not os.path.exists(path + \"images/\" + file):\n",
    "        shutil.move(path + file, path + \"images/\" + file)\n",
    "    elif \".jpg\" in file and not os.path.exists(path + \"images/\" + file):\n",
    "        shutil.move(path + file, path + \"images/\" + file)\n",
    "    elif \".pdf\" in file and not os.path.exists(path + \"text/\" + file):\n",
    "        shutil.move(path + file, path + \"text/\" + file)\n",
    "    elif \".exe\" in file and not os.path.exists(path + \"exe files/\" + file):\n",
    "        shutil.move(path + file, path + \"exe files/\" + file)\n",
    "\n",
    "        \n",
    "    "
   ]
  }
 ],
 "metadata": {
  "kernelspec": {
   "display_name": "Python 3 (ipykernel)",
   "language": "python",
   "name": "python3"
  },
  "language_info": {
   "codemirror_mode": {
    "name": "ipython",
    "version": 3
   },
   "file_extension": ".py",
   "mimetype": "text/x-python",
   "name": "python",
   "nbconvert_exporter": "python",
   "pygments_lexer": "ipython3",
   "version": "3.9.13"
  }
 },
 "nbformat": 4,
 "nbformat_minor": 5
}
